{
  "nbformat": 4,
  "nbformat_minor": 0,
  "metadata": {
    "colab": {
      "name": "PyTorch.ipynb",
      "version": "0.3.2",
      "provenance": []
    },
    "kernelspec": {
      "name": "python3",
      "display_name": "Python 3"
    },
    "accelerator": "GPU"
  },
  "cells": [
    {
      "metadata": {
        "id": "i0uNucJLwbFo",
        "colab_type": "text"
      },
      "cell_type": "markdown",
      "source": [
        "# Training a ConvNet PyTorch\n",
        "\n",
        "In this notebook, you'll learn how to use the powerful PyTorch framework to specify a conv net architecture and train it on the CIFAR-10 dataset."
      ]
    },
    {
      "metadata": {
        "id": "3mh7mMLBwbFp",
        "colab_type": "code",
        "colab": {}
      },
      "cell_type": "code",
      "source": [
        "import torch\n",
        "import torch.nn as nn\n",
        "import torch.optim as optim\n",
        "from torch.autograd import Variable\n",
        "from torch.utils.data import DataLoader\n",
        "from torch.utils.data import sampler\n",
        "\n",
        "import torchvision.datasets as dset\n",
        "import torchvision.transforms as T\n",
        "\n",
        "import numpy as np\n",
        "\n",
        "import timeit"
      ],
      "execution_count": 0,
      "outputs": []
    },
    {
      "metadata": {
        "id": "5QNMyg_4wbFt",
        "colab_type": "text"
      },
      "cell_type": "markdown",
      "source": [
        "## What's this PyTorch business?\n",
        "\n",
        "You've written a lot of code in this assignment to provide a whole host of neural network functionality. Dropout, Batch Norm, and 2D convolutions are some of the workhorses of deep learning in computer vision. You've also worked hard to make your code efficient and vectorized.\n",
        "\n",
        "For the last part of this assignment, though, we're going to leave behind your beautiful codebase and instead migrate to one of two popular deep learning frameworks: in this instance, PyTorch (or TensorFlow, if you switch over to that notebook). \n",
        "\n",
        "Why?\n",
        "\n",
        "* Our code will now run on GPUs! Much faster training. When using a framework like PyTorch or TensorFlow you can harness the power of the GPU for your own custom neural network architectures without having to write CUDA code directly (which is beyond the scope of this class).\n",
        "* We want you to be ready to use one of these frameworks for your project so you can experiment more efficiently than if you were writing every feature you want to use by hand. \n",
        "* We want you to stand on the shoulders of giants! TensorFlow and PyTorch are both excellent frameworks that will make your lives a lot easier, and now that you understand their guts, you are free to use them :) \n",
        "* We want you to be exposed to the sort of deep learning code you might run into in academia or industry. "
      ]
    },
    {
      "metadata": {
        "id": "xm2ufGY9wbFu",
        "colab_type": "text"
      },
      "cell_type": "markdown",
      "source": [
        "## How will I learn PyTorch?\n",
        "\n",
        "If you've used Torch before, but are new to PyTorch, this tutorial might be of use: http://pytorch.org/tutorials/beginner/former_torchies_tutorial.html\n",
        "\n",
        "Otherwise, this notebook will walk you through much of what you need to do to train models in Torch. See the end of the notebook for some links to helpful tutorials if you want to learn more or need further clarification on topics that aren't fully explained here."
      ]
    },
    {
      "metadata": {
        "id": "XW3pmtgEwbFw",
        "colab_type": "text"
      },
      "cell_type": "markdown",
      "source": [
        "## Load Datasets\n",
        "\n",
        "We load the CIFAR-10 dataset. This might take a couple minutes the first time you do it, but the files should stay cached after that."
      ]
    },
    {
      "metadata": {
        "id": "z4PWI2DUwbFz",
        "colab_type": "code",
        "colab": {
          "base_uri": "https://localhost:8080/",
          "height": 69
        },
        "outputId": "9b28dbca-4fd0-4d7d-80d0-ff02c2ff669d"
      },
      "cell_type": "code",
      "source": [
        "class ChunkSampler(sampler.Sampler):\n",
        "    \"\"\"Samples elements sequentially from some offset. \n",
        "    Arguments:\n",
        "        num_samples: # of desired datapoints\n",
        "        start: offset where we should start selecting from\n",
        "    \"\"\"\n",
        "    def __init__(self, num_samples, start = 0):\n",
        "        self.num_samples = num_samples\n",
        "        self.start = start\n",
        "\n",
        "    def __iter__(self):\n",
        "        return iter(range(self.start, self.start + self.num_samples))\n",
        "\n",
        "    def __len__(self):\n",
        "        return self.num_samples\n",
        "\n",
        "NUM_TRAIN = 49000\n",
        "NUM_VAL = 1000\n",
        "\n",
        "cifar10_train = dset.CIFAR10('./cs175/datasets', train=True, download=True,\n",
        "                           transform=T.ToTensor())\n",
        "loader_train = DataLoader(cifar10_train, batch_size=64, sampler=ChunkSampler(NUM_TRAIN, 0))\n",
        "\n",
        "cifar10_val = dset.CIFAR10('./cs175/datasets', train=True, download=True,\n",
        "                           transform=T.ToTensor())\n",
        "loader_val = DataLoader(cifar10_val, batch_size=64, sampler=ChunkSampler(NUM_VAL, NUM_TRAIN))\n",
        "\n",
        "cifar10_test = dset.CIFAR10('./cs175/datasets', train=False, download=True,\n",
        "                          transform=T.ToTensor())\n",
        "loader_test = DataLoader(cifar10_test, batch_size=64)\n"
      ],
      "execution_count": 22,
      "outputs": [
        {
          "output_type": "stream",
          "text": [
            "Files already downloaded and verified\n",
            "Files already downloaded and verified\n",
            "Files already downloaded and verified\n"
          ],
          "name": "stdout"
        }
      ]
    },
    {
      "metadata": {
        "id": "E4QX-gyiwbF2",
        "colab_type": "text"
      },
      "cell_type": "markdown",
      "source": [
        "For now, we're going to use a CPU-friendly datatype. Later, we'll switch to a datatype that will move all our computations to the GPU and measure the speedup."
      ]
    },
    {
      "metadata": {
        "id": "in_YLaWAwbF4",
        "colab_type": "code",
        "colab": {}
      },
      "cell_type": "code",
      "source": [
        "dtype = torch.FloatTensor # the CPU datatype\n",
        "\n",
        "# Constant to control how frequently we print train loss\n",
        "print_every = 100\n",
        "\n",
        "# This is a little utility that we'll use to reset the model\n",
        "# if we want to re-initialize all our parameters\n",
        "def reset(m):\n",
        "    if hasattr(m, 'reset_parameters'):\n",
        "        m.reset_parameters()"
      ],
      "execution_count": 0,
      "outputs": []
    },
    {
      "metadata": {
        "id": "fVA3e3l6wbF7",
        "colab_type": "text"
      },
      "cell_type": "markdown",
      "source": [
        "## Example Model\n",
        "\n",
        "### Some assorted tidbits\n",
        "\n",
        "Let's start by looking at a simple model. First, note that PyTorch operates on Tensors, which are n-dimensional arrays functionally analogous to numpy's ndarrays, with the additional feature that they can be used for computations on GPUs.\n",
        "\n",
        "We'll provide you with a Flatten function, which we explain here. Remember that our image data (and more relevantly, our intermediate feature maps) are initially N x C x H x W, where:\n",
        "* N is the number of datapoints\n",
        "* C is the number of channels\n",
        "* H is the height of the intermediate feature map in pixels\n",
        "* W is the height of the intermediate feature map in pixels\n",
        "\n",
        "This is the right way to represent the data when we are doing something like a 2D convolution, that needs spatial understanding of where the intermediate features are relative to each other. When we input  data into fully connected affine layers, however, we want each datapoint to be represented by a single vector -- it's no longer useful to segregate the different channels, rows, and columns of the data. So, we use a \"Flatten\" operation to collapse the C x H x W values per representation into a single long vector. The Flatten function below first reads in the N, C, H, and W values from a given batch of data, and then returns a \"view\" of that data. \"View\" is analogous to numpy's \"reshape\" method: it reshapes x's dimensions to be N x ??, where ?? is allowed to be anything (in this case, it will be C x H x W, but we don't need to specify that explicitly). "
      ]
    },
    {
      "metadata": {
        "id": "Y1pHSvuvwbF8",
        "colab_type": "code",
        "colab": {}
      },
      "cell_type": "code",
      "source": [
        "class Flatten(nn.Module):\n",
        "    def forward(self, x):\n",
        "        N, C, H, W = x.size() # read in N, C, H, W\n",
        "        return x.view(N, -1)  # \"flatten\" the C * H * W values into a single vector per image"
      ],
      "execution_count": 0,
      "outputs": []
    },
    {
      "metadata": {
        "id": "NH5yA97vwbGA",
        "colab_type": "text"
      },
      "cell_type": "markdown",
      "source": [
        "### The example model itself\n",
        "\n",
        "The first step to training your own model is defining its architecture.\n",
        "\n",
        "Here's an example of a convolutional neural network defined in PyTorch -- try to understand what each line is doing, remembering that each layer is composed upon the previous layer. We haven't trained anything yet - that'll come next - for now, we want you to understand how everything gets set up.  nn.Sequential is a container which applies each layer\n",
        "one after the other.\n",
        "\n",
        "In that example, you see 2D convolutional layers (Conv2d), ReLU activations, and fully-connected layers (Linear). You also see the Cross-Entropy loss function, and the Adam optimizer being used. \n",
        "\n",
        "Make sure you understand why the parameters of the Linear layer are 5408 and 10.\n"
      ]
    },
    {
      "metadata": {
        "id": "4VgL5izVwbGA",
        "colab_type": "code",
        "colab": {}
      },
      "cell_type": "code",
      "source": [
        "# Here's where we define the architecture of the model... \n",
        "simple_model = nn.Sequential(\n",
        "                nn.Conv2d(3, 32, kernel_size=7, stride=2),\n",
        "                nn.ReLU(inplace=True),\n",
        "                Flatten(), # see above for explanation\n",
        "                nn.Linear(5408, 10), # affine layer\n",
        "              )\n",
        "\n",
        "# Set the type of all data in this model to be FloatTensor \n",
        "simple_model.type(dtype)\n",
        "\n",
        "loss_fn = nn.CrossEntropyLoss().type(dtype)\n",
        "optimizer = optim.Adam(simple_model.parameters(), lr=1e-2) # lr sets the learning rate of the optimizer"
      ],
      "execution_count": 0,
      "outputs": []
    },
    {
      "metadata": {
        "id": "zFGq0ET0wbGE",
        "colab_type": "text"
      },
      "cell_type": "markdown",
      "source": [
        "PyTorch supports many other layer types, loss functions, and optimizers - you will experiment with these next. Here's the official API documentation for these (if any of the parameters used above were unclear, this resource will also be helpful). One note: what we call in the class \"spatial batch norm\" is called \"BatchNorm2D\" in PyTorch.\n",
        "\n",
        "* Layers: http://pytorch.org/docs/nn.html\n",
        "* Activations: http://pytorch.org/docs/nn.html#non-linear-activations\n",
        "* Loss functions: http://pytorch.org/docs/nn.html#loss-functions\n",
        "* Optimizers: http://pytorch.org/docs/optim.html#algorithms"
      ]
    },
    {
      "metadata": {
        "id": "bCG6WWGnwbGG",
        "colab_type": "text"
      },
      "cell_type": "markdown",
      "source": [
        "## Training a specific model\n",
        "\n",
        "In this section, we're going to specify a model for you to construct. The goal here isn't to get good performance (that'll be next), but instead to get comfortable with understanding the PyTorch documentation and configuring your own model. \n",
        "\n",
        "Using the code provided above as guidance, and using the following PyTorch documentation, specify a model with the following architecture:\n",
        "\n",
        "* 7x7 Convolutional Layer with 32 filters and stride of 1\n",
        "* ReLU Activation Layer\n",
        "* Spatial Batch Normalization Layer\n",
        "* 2x2 Max Pooling layer with a stride of 2\n",
        "* Affine layer with 1024 output units\n",
        "* ReLU Activation Layer\n",
        "* Affine layer from 1024 input units to 10 outputs\n",
        "\n",
        "And finally, set up a **cross-entropy** loss function and the **RMSprop** learning rule."
      ]
    },
    {
      "metadata": {
        "id": "m7g9lFROwbGH",
        "colab_type": "code",
        "colab": {}
      },
      "cell_type": "code",
      "source": [
        "fixed_model_base = nn.Sequential( # You fill this in!\n",
        "                    nn.Conv2d(3, 32, kernel_size=7, stride=1), \n",
        "                    nn.ReLU(inplace=True),\n",
        "                    nn.BatchNorm2d(32),\n",
        "                    nn.MaxPool2d(2, stride=2),\n",
        "                    Flatten(),\n",
        "                    nn.Linear(5408, 1024),\n",
        "                    nn.ReLU(inplace=True),\n",
        "                    nn.Linear(1024, 10)\n",
        "            )\n",
        "\n",
        "fixed_model = fixed_model_base.type(dtype)"
      ],
      "execution_count": 0,
      "outputs": []
    },
    {
      "metadata": {
        "id": "WB4GP5A-wbGM",
        "colab_type": "text"
      },
      "cell_type": "markdown",
      "source": [
        "To make sure you're doing the right thing, use the following tool to check the dimensionality of your output (it should be 64 x 10, since our batches have size 64 and the output of the final affine layer should be 10, corresponding to our 10 classes):"
      ]
    },
    {
      "metadata": {
        "id": "d_LdnRMYwbGN",
        "colab_type": "code",
        "colab": {
          "base_uri": "https://localhost:8080/",
          "height": 34
        },
        "outputId": "b159db47-ca74-4c06-9d1c-13e958486d14"
      },
      "cell_type": "code",
      "source": [
        "## Now we're going to feed a random batch into the model you defined and make sure the output is the right size\n",
        "x = torch.randn(64, 3, 32, 32).type(dtype)\n",
        "x_var = Variable(x.type(dtype)) # Construct a PyTorch Variable out of your input data\n",
        "ans = fixed_model(x_var)        # Feed it through the model! \n",
        "\n",
        "# Check to make sure what comes out of your model\n",
        "# is the right dimensionality... this should be True\n",
        "# if you've done everything correctly\n",
        "np.array_equal(np.array(ans.size()), np.array([64, 10]))       "
      ],
      "execution_count": 27,
      "outputs": [
        {
          "output_type": "execute_result",
          "data": {
            "text/plain": [
              "True"
            ]
          },
          "metadata": {
            "tags": []
          },
          "execution_count": 27
        }
      ]
    },
    {
      "metadata": {
        "id": "KpGpBGfywbGR",
        "colab_type": "text"
      },
      "cell_type": "markdown",
      "source": [
        "### GPU!\n",
        "\n",
        "Now, we're going to switch the dtype of the model and our data to the GPU-friendly tensors, and see what happens... everything is the same, except we are casting our model and input tensors as this new dtype instead of the old one.\n",
        "\n",
        "If this returns false, or otherwise fails in a not-graceful way (i.e., with some error message), you may not have an NVIDIA GPU available on your machine. If you're running locally, we recommend you switch to Google Colab and follow the instructions to set up a GPU there. If you're already on Google Colab, something is wrong -- make sure you followed the instructions on how to request and use a GPU on your instance. If you did, post on Piazza or come to Office Hours so we can help you debug."
      ]
    },
    {
      "metadata": {
        "id": "ASzN6bTgwbGS",
        "colab_type": "code",
        "colab": {
          "base_uri": "https://localhost:8080/",
          "height": 34
        },
        "outputId": "dc50508e-ddbd-4be3-9bf6-8d9221b932df"
      },
      "cell_type": "code",
      "source": [
        "# Verify that CUDA is properly configured and you have a GPU available\n",
        "\n",
        "torch.cuda.is_available()"
      ],
      "execution_count": 28,
      "outputs": [
        {
          "output_type": "execute_result",
          "data": {
            "text/plain": [
              "True"
            ]
          },
          "metadata": {
            "tags": []
          },
          "execution_count": 28
        }
      ]
    },
    {
      "metadata": {
        "id": "1jp_3bpuwbGV",
        "colab_type": "code",
        "colab": {
          "base_uri": "https://localhost:8080/",
          "height": 34
        },
        "outputId": "33b1ca1d-5319-434c-dcb6-d13afe555f46"
      },
      "cell_type": "code",
      "source": [
        "import copy\n",
        "gpu_dtype = torch.cuda.FloatTensor\n",
        "\n",
        "fixed_model_gpu = copy.deepcopy(fixed_model_base).type(gpu_dtype)\n",
        "\n",
        "x_gpu = torch.randn(64, 3, 32, 32).type(gpu_dtype)\n",
        "x_var_gpu = Variable(x.type(gpu_dtype)) # Construct a PyTorch Variable out of your input data\n",
        "ans = fixed_model_gpu(x_var_gpu)        # Feed it through the model! \n",
        "\n",
        "# Check to make sure what comes out of your model\n",
        "# is the right dimensionality... this should be True\n",
        "# if you've done everything correctly\n",
        "np.array_equal(np.array(ans.size()), np.array([64, 10]))"
      ],
      "execution_count": 29,
      "outputs": [
        {
          "output_type": "execute_result",
          "data": {
            "text/plain": [
              "True"
            ]
          },
          "metadata": {
            "tags": []
          },
          "execution_count": 29
        }
      ]
    },
    {
      "metadata": {
        "id": "O2Q9tqTgwbGY",
        "colab_type": "text"
      },
      "cell_type": "markdown",
      "source": [
        "Run the following cell to evaluate the performance of the forward pass running on the CPU:"
      ]
    },
    {
      "metadata": {
        "id": "udX1xnvgwbGZ",
        "colab_type": "code",
        "colab": {
          "base_uri": "https://localhost:8080/",
          "height": 34
        },
        "outputId": "f83686bd-0df3-4593-8bfc-948b3f36b3ff"
      },
      "cell_type": "code",
      "source": [
        "%%timeit \n",
        "ans = fixed_model(x_var)"
      ],
      "execution_count": 30,
      "outputs": [
        {
          "output_type": "stream",
          "text": [
            "10 loops, best of 3: 48 ms per loop\n"
          ],
          "name": "stdout"
        }
      ]
    },
    {
      "metadata": {
        "id": "aj6ts3XvwbGd",
        "colab_type": "text"
      },
      "cell_type": "markdown",
      "source": [
        "... and now the GPU:"
      ]
    },
    {
      "metadata": {
        "id": "UU_glnqswbGe",
        "colab_type": "code",
        "colab": {
          "base_uri": "https://localhost:8080/",
          "height": 34
        },
        "outputId": "ca5e8e32-eba1-41b6-f7fd-b79f5df413c4"
      },
      "cell_type": "code",
      "source": [
        "%%timeit \n",
        "torch.cuda.synchronize() # Make sure there are no pending GPU computations\n",
        "ans = fixed_model_gpu(x_var_gpu)        # Feed it through the model! \n",
        "torch.cuda.synchronize() # Make sure there are no pending GPU computations"
      ],
      "execution_count": 31,
      "outputs": [
        {
          "output_type": "stream",
          "text": [
            "100 loops, best of 3: 1.88 ms per loop\n"
          ],
          "name": "stdout"
        }
      ]
    },
    {
      "metadata": {
        "id": "fxEIWeXQwbGh",
        "colab_type": "text"
      },
      "cell_type": "markdown",
      "source": [
        "You should observe that even a simple forward pass like this is significantly faster on the GPU. So for the rest of the assignment (and when you go train your models in assignment 3 and your project!), you should use the GPU datatype for your model and your tensors: as a reminder that is *torch.cuda.FloatTensor* (in our notebook here as *gpu_dtype*)"
      ]
    },
    {
      "metadata": {
        "id": "IBUA3Rz_wbGi",
        "colab_type": "text"
      },
      "cell_type": "markdown",
      "source": [
        "### Train the model.\n",
        "\n",
        "Now that you've seen how to define a model and do a single forward pass of some data through it, let's  walk through how you'd actually train one whole epoch over your training data (using the simple_model we provided above).\n",
        "\n",
        "Make sure you understand how each PyTorch function used below corresponds to what you implemented in your custom neural network implementation.\n",
        "\n",
        "Note that because we are not resetting the weights anywhere below, if you run the cell multiple times, you are effectively training multiple epochs (so your performance should improve).\n",
        "\n",
        "First, set up an RMSprop optimizer (using a 1e-3 learning rate) and a cross-entropy loss function:"
      ]
    },
    {
      "metadata": {
        "id": "OTTFb7I9wbGk",
        "colab_type": "code",
        "colab": {}
      },
      "cell_type": "code",
      "source": [
        "loss_fn = nn.CrossEntropyLoss().type(dtype)\n",
        "optimizer = torch.optim.RMSprop(fixed_model_gpu.parameters(), lr=1e-3)\n"
      ],
      "execution_count": 0,
      "outputs": []
    },
    {
      "metadata": {
        "id": "HVb5CCJLwbGp",
        "colab_type": "code",
        "colab": {
          "base_uri": "https://localhost:8080/",
          "height": 137
        },
        "outputId": "b0d576ce-16e8-4ed5-f473-1ddc50ff6b4d"
      },
      "cell_type": "code",
      "source": [
        "# This sets the model in \"training\" mode. This is relevant for some layers that may have different behavior\n",
        "# in training mode vs testing mode, such as Dropout and BatchNorm. \n",
        "fixed_model_gpu.train()\n",
        "\n",
        "# Load one batch at a time.\n",
        "for t, (x, y) in enumerate(loader_train):\n",
        "    x_var = Variable(x.type(gpu_dtype))\n",
        "    y_var = Variable(y.type(gpu_dtype).long())\n",
        "\n",
        "    # This is the forward pass: predict the scores for each class, for each x in the batch.\n",
        "    scores = fixed_model_gpu(x_var)\n",
        "    \n",
        "    # Use the correct y values and the predicted y values to compute the loss.\n",
        "    loss = loss_fn(scores, y_var)\n",
        "    \n",
        "    if (t + 1) % print_every == 0:\n",
        "        print('t = %d, loss = %.4f' % (t + 1, loss.item()))\n",
        "\n",
        "    # Zero out all of the gradients for the variables which the optimizer will update.\n",
        "    optimizer.zero_grad()\n",
        "    \n",
        "    # This is the backwards pass: compute the gradient of the loss with respect to each \n",
        "    # parameter of the model.\n",
        "    loss.backward()\n",
        "    \n",
        "    # Actually update the parameters of the model using the gradients computed by the backwards pass.\n",
        "    optimizer.step()"
      ],
      "execution_count": 38,
      "outputs": [
        {
          "output_type": "stream",
          "text": [
            "t = 100, loss = 1.2713\n",
            "t = 200, loss = 1.3427\n",
            "t = 300, loss = 1.3150\n",
            "t = 400, loss = 1.2649\n",
            "t = 500, loss = 1.0699\n",
            "t = 600, loss = 1.4541\n",
            "t = 700, loss = 1.1796\n"
          ],
          "name": "stdout"
        }
      ]
    },
    {
      "metadata": {
        "id": "ZWuHBtgbwbGt",
        "colab_type": "text"
      },
      "cell_type": "markdown",
      "source": [
        "Now you've seen how the training process works in PyTorch. To save you writing boilerplate code, we're providing the following helper functions to help you train for multiple epochs and check the accuracy of your model:"
      ]
    },
    {
      "metadata": {
        "id": "53IP6Ms3wbGt",
        "colab_type": "code",
        "colab": {}
      },
      "cell_type": "code",
      "source": [
        "def train(model, loss_fn, optimizer, num_epochs = 1):\n",
        "    for epoch in range(num_epochs):\n",
        "        print('Starting epoch %d / %d' % (epoch + 1, num_epochs))\n",
        "        model.train()\n",
        "        for t, (x, y) in enumerate(loader_train):\n",
        "            x_var = Variable(x.type(gpu_dtype))\n",
        "            y_var = Variable(y.type(gpu_dtype).long())\n",
        "\n",
        "            scores = model(x_var)\n",
        "            \n",
        "            loss = loss_fn(scores, y_var)\n",
        "            if (t + 1) % print_every == 0:\n",
        "                print('t = %d, loss = %.4f' % (t + 1, loss.item()))\n",
        "\n",
        "            optimizer.zero_grad()\n",
        "            loss.backward()\n",
        "            optimizer.step()\n",
        "\n",
        "def check_accuracy(model, loader):\n",
        "    if loader.dataset.train:\n",
        "        print('Checking accuracy on validation set')\n",
        "    else:\n",
        "        print('Checking accuracy on test set')   \n",
        "    num_correct = 0\n",
        "    num_samples = 0\n",
        "    model.eval() # Put the model in test mode (the opposite of model.train(), essentially)\n",
        "    for x, y in loader:\n",
        "        with torch.no_grad():\n",
        "          x_var = Variable(x.type(gpu_dtype))\n",
        "\n",
        "        scores = model(x_var)\n",
        "        _, preds = scores.data.cpu().max(1)\n",
        "        num_correct += (preds == y).sum()\n",
        "        num_samples += preds.size(0)\n",
        "    acc = float(num_correct) / num_samples\n",
        "    print('Got %d / %d correct (%.2f)' % (num_correct, num_samples, 100 * acc))"
      ],
      "execution_count": 0,
      "outputs": []
    },
    {
      "metadata": {
        "id": "ccuofttMwbGy",
        "colab_type": "text"
      },
      "cell_type": "markdown",
      "source": [
        "### Check the accuracy of the model.\n",
        "\n",
        "Let's see the train and check_accuracy code in action -- feel free to use these methods when evaluating the models you develop below.\n",
        "\n",
        "You should get a training loss of around 1.2-1.4, and a validation accuracy of around 50-60%. As mentioned above, if you re-run the cells, you'll be training more epochs, so your performance will improve past these numbers.\n",
        "\n",
        "But don't worry about getting these numbers better -- this was just practice before you tackle designing your own model."
      ]
    },
    {
      "metadata": {
        "id": "ZF3cizc6wbG0",
        "colab_type": "code",
        "colab": {
          "base_uri": "https://localhost:8080/",
          "height": 189
        },
        "outputId": "72fdd40e-7860-4dab-a82e-0f6968ac2639"
      },
      "cell_type": "code",
      "source": [
        "torch.cuda.random.manual_seed(12345)\n",
        "fixed_model_gpu.apply(reset)\n",
        "train(fixed_model_gpu, loss_fn, optimizer, num_epochs=1)\n",
        "check_accuracy(fixed_model_gpu, loader_val)"
      ],
      "execution_count": 49,
      "outputs": [
        {
          "output_type": "stream",
          "text": [
            "Starting epoch 1 / 1\n",
            "t = 100, loss = 1.3503\n",
            "t = 200, loss = 1.5155\n",
            "t = 300, loss = 1.4194\n",
            "t = 400, loss = 1.2209\n",
            "t = 500, loss = 1.1890\n",
            "t = 600, loss = 1.2963\n",
            "t = 700, loss = 1.2588\n",
            "Checking accuracy on validation set\n",
            "Got 606 / 1000 correct (60.60)\n"
          ],
          "name": "stdout"
        }
      ]
    },
    {
      "metadata": {
        "id": "lf398gyPwbG4",
        "colab_type": "text"
      },
      "cell_type": "markdown",
      "source": [
        "### Don't forget the validation set!\n",
        "\n",
        "And note that you can use the check_accuracy function to evaluate on either the test set or the validation set, by passing either **loader_test** or **loader_val** as the second argument to check_accuracy. You should not touch the test set until you have finished your architecture and hyperparameter tuning, and only run the test set once at the end to report a final value. "
      ]
    },
    {
      "metadata": {
        "id": "ZsxQ60IewbG5",
        "colab_type": "text"
      },
      "cell_type": "markdown",
      "source": [
        "## Train a _great_ model on CIFAR-10!\n",
        "\n",
        "Now it's your job to experiment with architectures, hyperparameters, loss functions, and optimizers to train a model that achieves **>=70%** accuracy on the CIFAR-10 **validation** set. You can use the check_accuracy and train functions from above."
      ]
    },
    {
      "metadata": {
        "id": "WPFLfth_wbG5",
        "colab_type": "text"
      },
      "cell_type": "markdown",
      "source": [
        "### Things you should try:\n",
        "- **Filter size**: Above we used 7x7; this makes pretty pictures but smaller filters may be more efficient\n",
        "- **Number of filters**: Above we used 32 filters. Do more or fewer do better?\n",
        "- **Pooling vs Strided Convolution**: Do you use max pooling or just stride convolutions?\n",
        "- **Batch normalization**: Try adding spatial batch normalization after convolution layers and vanilla batch normalization after affine layers. Do your networks train faster?\n",
        "- **Network architecture**: The network above has two layers of trainable parameters. Can you do better with a deep network? Good architectures to try include:\n",
        "    - [conv-relu-pool]xN -> [affine]xM -> [softmax or SVM]\n",
        "    - [conv-relu-conv-relu-pool]xN -> [affine]xM -> [softmax or SVM]\n",
        "    - [batchnorm-relu-conv]xN -> [affine]xM -> [softmax or SVM]\n",
        "- **Global Average Pooling**: Instead of flattening and then having multiple affine layers, perform convolutions until your image gets small (7x7 or so) and then perform an average pooling operation to get to a 1x1 image picture (1, 1 , Filter#), which is then reshaped into a (Filter#) vector. This is used in [Google's Inception Network](https://arxiv.org/abs/1512.00567) (See Table 1 for their architecture).\n",
        "- **Regularization**: Add l2 weight regularization, or perhaps use Dropout.\n",
        "\n",
        "### Tips for training\n",
        "For each network architecture that you try, you should tune the learning rate and regularization strength. When doing this there are a couple important things to keep in mind:\n",
        "\n",
        "- If the parameters are working well, you should see improvement within a few hundred iterations\n",
        "- Remember the coarse-to-fine approach for hyperparameter tuning: start by testing a large range of hyperparameters for just a few training iterations to find the combinations of parameters that are working at all.\n",
        "- Once you have found some sets of parameters that seem to work, search more finely around these parameters. You may need to train for more epochs.\n",
        "- You should use the validation set for hyperparameter search, and save your test set for evaluating your architecture on the best parameters as selected by the validation set.\n",
        "\n",
        "### Going above and beyond\n",
        "If you are feeling adventurous there are many other features you can implement to try and improve your performance. You are **not required** to implement any of these; however they would be good things to try for extra credit.\n",
        "\n",
        "- Alternative update steps: For the assignment we implemented SGD+momentum, RMSprop, and Adam; you could try alternatives like AdaGrad or AdaDelta.\n",
        "- Alternative activation functions such as leaky ReLU, parametric ReLU, ELU, or MaxOut.\n",
        "- Model ensembles\n",
        "- Data augmentation\n",
        "- New Architectures\n",
        "  - [ResNets](https://arxiv.org/abs/1512.03385) where the input from the previous layer is added to the output.\n",
        "  - [DenseNets](https://arxiv.org/abs/1608.06993) where inputs into previous layers are concatenated together.\n",
        "  - [This blog has an in-depth overview](https://chatbotslife.com/resnets-highwaynets-and-densenets-oh-my-9bb15918ee32)\n",
        "\n",
        "If you do decide to implement something extra, clearly describe it in the \"Extra Credit Description\" cell below.\n",
        "\n",
        "### What we expect\n",
        "At the very least, you should be able to train a ConvNet that gets at least 70% accuracy on the validation set. This is just a lower bound - if you are careful it should be possible to get accuracies much higher than that! Extra credit points will be awarded for particularly high-scoring models or unique approaches.\n",
        "\n",
        "You should use the space below to experiment and train your network. \n",
        "\n",
        "Have fun and happy training!"
      ]
    },
    {
      "metadata": {
        "id": "fmVJMN5TwbG7",
        "colab_type": "code",
        "colab": {}
      },
      "cell_type": "code",
      "source": [
        "# Train your model here, and make sure the output of this cell is the accuracy of your best model on the \n",
        "# train, val, and test sets. Here's some code to get you started. The output of this cell should be the training\n",
        "# and validation accuracy on your best model (measured by validation accuracy).\n",
        "\n",
        "model = nn.Sequential(\n",
        "            nn.Conv2d(3, 32, kernel_size=3, stride=1, padding=1), \n",
        "            nn.PReLU(),\n",
        "            nn.BatchNorm2d(32),\n",
        "            nn.Dropout(p=0.3),\n",
        "            nn.Conv2d(32, 64, kernel_size=3, stride=1, padding=1), \n",
        "            nn.PReLU(),\n",
        "            nn.BatchNorm2d(64),\n",
        "            nn.Dropout(p=0.3),\n",
        "            nn.Conv2d(64, 64, kernel_size=3, stride=2, padding=1), \n",
        "            nn.PReLU(),\n",
        "            nn.BatchNorm2d(64),\n",
        "            nn.Dropout(p=0.3),\n",
        "            nn.Conv2d(64, 128, kernel_size=3, stride=2, padding=1), \n",
        "            nn.PReLU(),\n",
        "            nn.BatchNorm2d(128),\n",
        "            nn.Dropout(p=0.3),\n",
        "            nn.Conv2d(128, 256, kernel_size=3, stride=2, padding=1), \n",
        "            nn.PReLU(),\n",
        "            nn.BatchNorm2d(256),\n",
        "            nn.Dropout(p=0.3),\n",
        "            nn.Conv2d(256, 512, kernel_size=3, stride=2, padding=1), \n",
        "            nn.PReLU(),\n",
        "            nn.BatchNorm2d(512),\n",
        "            nn.Dropout(p=0.2),\n",
        "            nn.Conv2d(512, 10, kernel_size=2, stride=1, padding=0),\n",
        "            Flatten())\n",
        "model = model.type(gpu_dtype)\n",
        "loss_fn = nn.CrossEntropyLoss().type(gpu_dtype)\n",
        "optimizer = optim.Adam(model.parameters(), lr=1e-3)\n"
      ],
      "execution_count": 0,
      "outputs": []
    },
    {
      "metadata": {
        "id": "ReQX-2ObHu9a",
        "colab_type": "code",
        "colab": {
          "base_uri": "https://localhost:8080/",
          "height": 1427
        },
        "outputId": "e2d1a884-8df4-4017-890f-440b81c5777d"
      },
      "cell_type": "code",
      "source": [
        "torch.cuda.random.manual_seed(12345)\n",
        "model.apply(reset)\n",
        "train(model, loss_fn, optimizer, num_epochs=10) # 20-83.7\n",
        "check_accuracy(model, loader_val)\n"
      ],
      "execution_count": 57,
      "outputs": [
        {
          "output_type": "stream",
          "text": [
            "Starting epoch 1 / 10\n",
            "t = 100, loss = 1.5597\n",
            "t = 200, loss = 1.6492\n",
            "t = 300, loss = 1.4254\n",
            "t = 400, loss = 1.1775\n",
            "t = 500, loss = 1.1001\n",
            "t = 600, loss = 1.2633\n",
            "t = 700, loss = 1.2479\n",
            "Starting epoch 2 / 10\n",
            "t = 100, loss = 0.9489\n",
            "t = 200, loss = 0.9781\n",
            "t = 300, loss = 1.0852\n",
            "t = 400, loss = 0.8179\n",
            "t = 500, loss = 0.7605\n",
            "t = 600, loss = 0.8480\n",
            "t = 700, loss = 0.9779\n",
            "Starting epoch 3 / 10\n",
            "t = 100, loss = 0.5660\n",
            "t = 200, loss = 0.7152\n",
            "t = 300, loss = 0.7530\n",
            "t = 400, loss = 0.5578\n",
            "t = 500, loss = 0.5443\n",
            "t = 600, loss = 0.6422\n",
            "t = 700, loss = 0.7409\n",
            "Starting epoch 4 / 10\n",
            "t = 100, loss = 0.4503\n",
            "t = 200, loss = 0.6538\n",
            "t = 300, loss = 0.6550\n",
            "t = 400, loss = 0.4505\n",
            "t = 500, loss = 0.4343\n",
            "t = 600, loss = 0.4858\n",
            "t = 700, loss = 0.5551\n",
            "Starting epoch 5 / 10\n",
            "t = 100, loss = 0.5188\n",
            "t = 200, loss = 0.5164\n",
            "t = 300, loss = 0.4913\n",
            "t = 400, loss = 0.4314\n",
            "t = 500, loss = 0.4710\n",
            "t = 600, loss = 0.4147\n",
            "t = 700, loss = 0.5847\n",
            "Starting epoch 6 / 10\n",
            "t = 100, loss = 0.4259\n",
            "t = 200, loss = 0.4214\n",
            "t = 300, loss = 0.4010\n",
            "t = 400, loss = 0.3624\n",
            "t = 500, loss = 0.4746\n",
            "t = 600, loss = 0.3289\n",
            "t = 700, loss = 0.4710\n",
            "Starting epoch 7 / 10\n",
            "t = 100, loss = 0.1711\n",
            "t = 200, loss = 0.3908\n",
            "t = 300, loss = 0.4262\n",
            "t = 400, loss = 0.3204\n",
            "t = 500, loss = 0.3266\n",
            "t = 600, loss = 0.3788\n",
            "t = 700, loss = 0.3208\n",
            "Starting epoch 8 / 10\n",
            "t = 100, loss = 0.3536\n",
            "t = 200, loss = 0.4305\n",
            "t = 300, loss = 0.3193\n",
            "t = 400, loss = 0.3247\n",
            "t = 500, loss = 0.3029\n",
            "t = 600, loss = 0.2012\n",
            "t = 700, loss = 0.3847\n",
            "Starting epoch 9 / 10\n",
            "t = 100, loss = 0.2265\n",
            "t = 200, loss = 0.3577\n",
            "t = 300, loss = 0.4064\n",
            "t = 400, loss = 0.1654\n",
            "t = 500, loss = 0.3006\n",
            "t = 600, loss = 0.3259\n",
            "t = 700, loss = 0.2296\n",
            "Starting epoch 10 / 10\n",
            "t = 100, loss = 0.1712\n",
            "t = 200, loss = 0.2911\n",
            "t = 300, loss = 0.2675\n",
            "t = 400, loss = 0.1559\n",
            "t = 500, loss = 0.2553\n",
            "t = 600, loss = 0.2438\n",
            "t = 700, loss = 0.2898\n",
            "Checking accuracy on validation set\n",
            "Got 825 / 1000 correct (82.50)\n"
          ],
          "name": "stdout"
        }
      ]
    },
    {
      "metadata": {
        "id": "8lda4px3wbG_",
        "colab_type": "text"
      },
      "cell_type": "markdown",
      "source": [
        "### Describe what you did \n",
        "\n",
        "In the cell below you should write an explanation of what you did, any additional features that you implemented, and any visualizations or graphs that you make in the process of training and evaluating your network."
      ]
    },
    {
      "metadata": {
        "id": "TEFlSpwhwbHA",
        "colab_type": "text"
      },
      "cell_type": "markdown",
      "source": [
        "Tell us here!"
      ]
    },
    {
      "metadata": {
        "id": "qS74q-0EwbHB",
        "colab_type": "text"
      },
      "cell_type": "markdown",
      "source": [
        "## Test set -- run this only once\n",
        "\n",
        "Now that we've gotten a result we're happy with, we test our final model on the test set (which you should store in best_model).  This would be the score we would achieve on a competition. Think about how this compares to your validation set accuracy."
      ]
    },
    {
      "metadata": {
        "id": "bioKFECTwbHB",
        "colab_type": "code",
        "colab": {
          "base_uri": "https://localhost:8080/",
          "height": 51
        },
        "outputId": "08c38ac6-1ab2-4ed5-cb90-d2469f8c330d"
      },
      "cell_type": "code",
      "source": [
        "best_model = model\n",
        "check_accuracy(best_model, loader_test)"
      ],
      "execution_count": 58,
      "outputs": [
        {
          "output_type": "stream",
          "text": [
            "Checking accuracy on test set\n",
            "Got 8095 / 10000 correct (80.95)\n"
          ],
          "name": "stdout"
        }
      ]
    },
    {
      "metadata": {
        "id": "8qeRnbiBwbHD",
        "colab_type": "text"
      },
      "cell_type": "markdown",
      "source": [
        "## Going further with PyTorch\n",
        "\n",
        "The next assignment will make heavy use of PyTorch. You might also find it useful for your projects. \n",
        "\n",
        "Here's a nice tutorial by Justin Johnson that shows off some of PyTorch's features, like dynamic graphs and custom NN modules: http://pytorch.org/tutorials/beginner/pytorch_with_examples.html\n",
        "\n",
        "If you're interested in reinforcement learning for your final project, this is a good (more advanced) DQN tutorial in PyTorch: http://pytorch.org/tutorials/intermediate/reinforcement_q_learning.html"
      ]
    }
  ]
}